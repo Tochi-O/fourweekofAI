{
 "cells": [
  {
   "cell_type": "code",
   "execution_count": 1,
   "id": "6df695a3",
   "metadata": {},
   "outputs": [
    {
     "name": "stderr",
     "output_type": "stream",
     "text": [
      "C:\\Users\\TUSKIE\\anaconda3\\lib\\site-packages\\scipy\\__init__.py:138: UserWarning: A NumPy version >=1.16.5 and <1.23.0 is required for this version of SciPy (detected version 1.24.1)\n",
      "  warnings.warn(f\"A NumPy version >={np_minversion} and <{np_maxversion} is required for this version of \"\n"
     ]
    }
   ],
   "source": [
    "import pandas as pd\n",
    "import numpy as np\n",
    "from sklearn.datasets import make_blobs\n",
    "from sklearn.cluster import KMeans\n",
    "from sklearn.metrics import silhouette_score\n",
    "from sklearn.preprocessing import StandardScaler\n",
    "from sklearn.datasets import make_blobs"
   ]
  },
  {
   "cell_type": "code",
   "execution_count": 20,
   "id": "10833d0f",
   "metadata": {},
   "outputs": [
    {
     "data": {
      "text/html": [
       "<div>\n",
       "<style scoped>\n",
       "    .dataframe tbody tr th:only-of-type {\n",
       "        vertical-align: middle;\n",
       "    }\n",
       "\n",
       "    .dataframe tbody tr th {\n",
       "        vertical-align: top;\n",
       "    }\n",
       "\n",
       "    .dataframe thead th {\n",
       "        text-align: right;\n",
       "    }\n",
       "</style>\n",
       "<table border=\"1\" class=\"dataframe\">\n",
       "  <thead>\n",
       "    <tr style=\"text-align: right;\">\n",
       "      <th></th>\n",
       "      <th>province</th>\n",
       "      <th>gdp</th>\n",
       "      <th>illiteracy</th>\n",
       "      <th>poverty</th>\n",
       "      <th>deficient_infra</th>\n",
       "      <th>school_dropout</th>\n",
       "      <th>no_healthcare</th>\n",
       "      <th>birth_mortal</th>\n",
       "      <th>pop</th>\n",
       "      <th>movie_theatres_per_cap</th>\n",
       "      <th>doctors_per_cap</th>\n",
       "    </tr>\n",
       "  </thead>\n",
       "  <tbody>\n",
       "    <tr>\n",
       "      <th>0</th>\n",
       "      <td>Buenos Aires</td>\n",
       "      <td>2.926899e+08</td>\n",
       "      <td>1.38324</td>\n",
       "      <td>8.167798</td>\n",
       "      <td>5.511856</td>\n",
       "      <td>0.766168</td>\n",
       "      <td>48.7947</td>\n",
       "      <td>4.4</td>\n",
       "      <td>15625084</td>\n",
       "      <td>0.000006</td>\n",
       "      <td>0.004836</td>\n",
       "    </tr>\n",
       "    <tr>\n",
       "      <th>1</th>\n",
       "      <td>Catamarca</td>\n",
       "      <td>6.150949e+06</td>\n",
       "      <td>2.34414</td>\n",
       "      <td>9.234095</td>\n",
       "      <td>10.464484</td>\n",
       "      <td>0.951963</td>\n",
       "      <td>45.0456</td>\n",
       "      <td>1.5</td>\n",
       "      <td>367828</td>\n",
       "      <td>0.000005</td>\n",
       "      <td>0.004502</td>\n",
       "    </tr>\n",
       "    <tr>\n",
       "      <th>2</th>\n",
       "      <td>Córdoba</td>\n",
       "      <td>6.936374e+07</td>\n",
       "      <td>2.71414</td>\n",
       "      <td>5.382380</td>\n",
       "      <td>10.436086</td>\n",
       "      <td>1.035056</td>\n",
       "      <td>45.7640</td>\n",
       "      <td>4.8</td>\n",
       "      <td>3308876</td>\n",
       "      <td>0.000011</td>\n",
       "      <td>0.010175</td>\n",
       "    </tr>\n",
       "    <tr>\n",
       "      <th>3</th>\n",
       "      <td>Corrientes</td>\n",
       "      <td>7.968013e+06</td>\n",
       "      <td>5.60242</td>\n",
       "      <td>12.747191</td>\n",
       "      <td>17.438858</td>\n",
       "      <td>3.864265</td>\n",
       "      <td>62.1103</td>\n",
       "      <td>5.9</td>\n",
       "      <td>992595</td>\n",
       "      <td>0.000004</td>\n",
       "      <td>0.004495</td>\n",
       "    </tr>\n",
       "    <tr>\n",
       "      <th>4</th>\n",
       "      <td>Chaco</td>\n",
       "      <td>9.832643e+06</td>\n",
       "      <td>7.51758</td>\n",
       "      <td>15.862619</td>\n",
       "      <td>31.479527</td>\n",
       "      <td>2.577462</td>\n",
       "      <td>65.5104</td>\n",
       "      <td>7.5</td>\n",
       "      <td>1055259</td>\n",
       "      <td>0.000003</td>\n",
       "      <td>0.003605</td>\n",
       "    </tr>\n",
       "  </tbody>\n",
       "</table>\n",
       "</div>"
      ],
      "text/plain": [
       "       province           gdp  illiteracy    poverty  deficient_infra  \\\n",
       "0  Buenos Aires  2.926899e+08     1.38324   8.167798         5.511856   \n",
       "1     Catamarca  6.150949e+06     2.34414   9.234095        10.464484   \n",
       "2       Córdoba  6.936374e+07     2.71414   5.382380        10.436086   \n",
       "3    Corrientes  7.968013e+06     5.60242  12.747191        17.438858   \n",
       "4         Chaco  9.832643e+06     7.51758  15.862619        31.479527   \n",
       "\n",
       "   school_dropout  no_healthcare  birth_mortal       pop  \\\n",
       "0        0.766168        48.7947           4.4  15625084   \n",
       "1        0.951963        45.0456           1.5    367828   \n",
       "2        1.035056        45.7640           4.8   3308876   \n",
       "3        3.864265        62.1103           5.9    992595   \n",
       "4        2.577462        65.5104           7.5   1055259   \n",
       "\n",
       "   movie_theatres_per_cap  doctors_per_cap  \n",
       "0                0.000006         0.004836  \n",
       "1                0.000005         0.004502  \n",
       "2                0.000011         0.010175  \n",
       "3                0.000004         0.004495  \n",
       "4                0.000003         0.003605  "
      ]
     },
     "execution_count": 20,
     "metadata": {},
     "output_type": "execute_result"
    }
   ],
   "source": [
    "dataset = pd.read_csv(\"arg/argentina.csv\")\n",
    "dataset.head()"
   ]
  },
  {
   "cell_type": "code",
   "execution_count": 4,
   "id": "4f9e4535",
   "metadata": {},
   "outputs": [
    {
     "data": {
      "text/plain": [
       "province                  0\n",
       "gdp                       0\n",
       "illiteracy                0\n",
       "poverty                   0\n",
       "deficient_infra           0\n",
       "school_dropout            0\n",
       "no_healthcare             0\n",
       "birth_mortal              0\n",
       "pop                       0\n",
       "movie_theatres_per_cap    0\n",
       "doctors_per_cap           0\n",
       "dtype: int64"
      ]
     },
     "execution_count": 4,
     "metadata": {},
     "output_type": "execute_result"
    }
   ],
   "source": [
    "dataset.isna().sum()"
   ]
  },
  {
   "cell_type": "code",
   "execution_count": 5,
   "id": "eaf1eebd",
   "metadata": {},
   "outputs": [
    {
     "data": {
      "text/plain": [
       "array(['Buenos Aires', 'Catamarca', 'Córdoba', 'Corrientes', 'Chaco',\n",
       "       'Chubut', 'Entre Ríos', 'Formosa', 'Jujuy', 'La Pampa', 'La Rioja',\n",
       "       'Mendoza', 'Misiones', 'Neuquén', 'Río Negro', 'Salta', 'San Juan',\n",
       "       'San Luis', 'Santa Cruz', 'Santa Fe', 'Santiago del Estero',\n",
       "       'Tucumán'], dtype=object)"
      ]
     },
     "execution_count": 5,
     "metadata": {},
     "output_type": "execute_result"
    }
   ],
   "source": [
    "dataset.province.unique()"
   ]
  },
  {
   "cell_type": "code",
   "execution_count": null,
   "id": "45f7ddcf",
   "metadata": {},
   "outputs": [],
   "source": [
    "prov = ['Buenos Aires', 'Catamarca', 'Córdoba', 'Corrientes', 'Chaco',\n",
    "       'Chubut', 'Entre Ríos', 'Formosa', 'Jujuy', 'La Pampa', 'La Rioja',\n",
    "       'Mendoza', 'Misiones', 'Neuquén', 'Río Negro', 'Salta', 'San Juan',\n",
    "       'San Luis', 'Santa Cruz', 'Santa Fe', 'Santiago del Estero',\n",
    "       'Tucumán']\n",
    "dataset['province'] = dataset['province']."
   ]
  },
  {
   "cell_type": "code",
   "execution_count": null,
   "id": "b1393cf2",
   "metadata": {},
   "outputs": [],
   "source": []
  },
  {
   "cell_type": "code",
   "execution_count": null,
   "id": "9f5f4cef",
   "metadata": {},
   "outputs": [],
   "source": []
  },
  {
   "cell_type": "code",
   "execution_count": null,
   "id": "288ab4ea",
   "metadata": {},
   "outputs": [],
   "source": []
  },
  {
   "cell_type": "code",
   "execution_count": 21,
   "id": "eaf7dee7",
   "metadata": {},
   "outputs": [],
   "source": [
    "features= dataset.drop(['province'],axis=1)\n",
    "labels = pd.get_dummies(dataset['province'])"
   ]
  },
  {
   "cell_type": "code",
   "execution_count": 22,
   "id": "07e652d1",
   "metadata": {},
   "outputs": [],
   "source": [
    "scaler = StandardScaler()\n",
    "scaled_features = scaler.fit_transform(features)"
   ]
  },
  {
   "cell_type": "code",
   "execution_count": 12,
   "id": "86f8ce7d",
   "metadata": {},
   "outputs": [],
   "source": [
    "k_means = KMeans(\n",
    "    init = \"random\",\n",
    "    n_clusters=22,\n",
    "    n_init=10,\n",
    "    max_iter=300,\n",
    "    random_state=42\n",
    ")"
   ]
  },
  {
   "cell_type": "code",
   "execution_count": 13,
   "id": "459aea1a",
   "metadata": {},
   "outputs": [
    {
     "data": {
      "text/plain": [
       "KMeans(init='random', n_clusters=22, random_state=42)"
      ]
     },
     "execution_count": 13,
     "metadata": {},
     "output_type": "execute_result"
    }
   ],
   "source": [
    "k_means.fit(scaled_features)"
   ]
  },
  {
   "cell_type": "code",
   "execution_count": 14,
   "id": "7053a0cc",
   "metadata": {},
   "outputs": [
    {
     "data": {
      "text/plain": [
       "1"
      ]
     },
     "execution_count": 14,
     "metadata": {},
     "output_type": "execute_result"
    }
   ],
   "source": [
    "# The lowest SSE value\n",
    "k_means.inertia_\n",
    "\n",
    "\n",
    "\n",
    "# The number of iterations required to converge\n",
    "k_means.n_iter_"
   ]
  },
  {
   "cell_type": "code",
   "execution_count": 15,
   "id": "6209f070",
   "metadata": {},
   "outputs": [
    {
     "data": {
      "text/plain": [
       "array([[ 4.33927214e+00, -1.01844951e+00, -4.76036185e-01,\n",
       "        -1.01624113e+00, -8.51463080e-01, -2.20083304e-01,\n",
       "        -1.71556357e-01,  4.43090353e+00, -2.63959622e-01,\n",
       "        -3.90691064e-02],\n",
       "       [-1.32312543e-01, -7.08591844e-01, -1.27006909e-01,\n",
       "        -1.99977216e-01, -2.94297842e-01, -2.25835844e-01,\n",
       "        -4.93390763e-01, -3.60825913e-01,  4.50721706e-01,\n",
       "         1.16202840e-01],\n",
       "       [-3.98482493e-01, -5.93805584e-01,  9.32218457e-01,\n",
       "        -2.75318638e-02, -8.91317485e-01,  3.78225454e-01,\n",
       "        -3.76360070e-01, -3.22031000e-01, -9.76649662e-01,\n",
       "        -6.29193629e-01],\n",
       "       [-4.04011254e-01, -4.87250722e-01, -1.87272722e-01,\n",
       "        -3.13833612e-01, -6.86450250e-01, -6.38045472e-01,\n",
       "        -1.02002888e+00, -4.19137965e-01, -3.99368002e-01,\n",
       "        -2.63350130e-01],\n",
       "       [-2.83369675e-01,  6.66410768e-02,  1.88073810e+00,\n",
       "         2.13446766e-01, -2.15673748e-01,  1.07627835e+00,\n",
       "         2.38051069e-01, -1.50013020e-01, -7.08308734e-01,\n",
       "        -6.06961015e-01],\n",
       "       [-2.12039401e-01, -9.27334741e-01, -5.07462389e-01,\n",
       "        -6.57031670e-01, -1.01120387e+00, -1.25101429e+00,\n",
       "        -5.81163783e-01, -3.74227277e-01,  2.00541983e+00,\n",
       "        -2.66067562e-01],\n",
       "       [-3.66982092e-01,  1.68417429e+00,  4.96495486e-01,\n",
       "         1.10824042e+00,  5.33537447e-01,  1.43756239e+00,\n",
       "        -9.61513536e-01, -2.58231947e-01, -8.68523607e-01,\n",
       "        -1.39351386e+00],\n",
       "       [ 4.75810233e-02, -5.66822742e-01, -1.14628943e+00,\n",
       "        -1.25337344e+00, -5.87195740e-01, -2.05727291e-02,\n",
       "        -1.71556357e-01,  1.67134584e-02,  2.12242395e-01,\n",
       "         5.55775572e-01],\n",
       "       [-3.73932099e-01,  1.31397146e+00,  7.64106844e-01,\n",
       "         6.75308382e-01,  1.90009768e+00,  1.26438418e+00,\n",
       "         2.67308742e-01, -2.20534371e-01, -7.28733024e-01,\n",
       "        -2.67934123e-01],\n",
       "       [-3.43065551e-01,  2.37269836e+00,  1.60779443e+00,\n",
       "         2.66662907e+00,  7.57229312e-01,  1.64343867e+00,\n",
       "         7.35431515e-01, -2.00614472e-01, -1.00648809e+00,\n",
       "        -8.66759718e-01],\n",
       "       [-3.10815495e-01,  1.15045454e-01, -9.02297516e-01,\n",
       "        -4.25108259e-01,  2.44512131e-01,  9.43777368e-02,\n",
       "        -3.47102397e-01, -3.98640152e-01, -5.89153379e-01,\n",
       "         8.12602416e-01],\n",
       "       [-3.46141510e-01,  2.01136267e+00,  9.76041510e-01,\n",
       "        -6.17161409e-01,  1.24718573e+00,  7.87636850e-01,\n",
       "         9.10977555e-01, -1.85885623e-01, -1.24689854e+00,\n",
       "        -1.35391660e+00],\n",
       "       [-3.12754122e-01, -1.34557985e+00, -5.14771638e-01,\n",
       "        -7.46843019e-01, -1.27502498e+00, -2.40098718e+00,\n",
       "        -4.93390763e-01, -4.48975853e-01,  8.90733492e-01,\n",
       "        -4.19007093e-01],\n",
       "       [-3.69060414e-01, -1.44992635e-01, -2.36915140e-01,\n",
       "        -1.24280203e+00,  1.39753852e+00,  2.45214688e-01,\n",
       "        -2.30071704e-01, -3.19568033e-01, -2.97359131e-01,\n",
       "         1.00820678e-01],\n",
       "       [ 6.42395211e-01, -2.82709612e-01, -1.23035361e+00,\n",
       "        -3.17861159e-01, -6.12651830e-01, -5.57955845e-01,\n",
       "        -5.45256639e-02,  5.15774895e-01,  9.44953845e-01,\n",
       "         3.55174897e+00],\n",
       "       [-3.90117501e-01, -9.32177390e-01, -1.76753307e+00,\n",
       "         5.42965062e-01, -1.35066733e+00, -5.90018452e-01,\n",
       "         6.47658495e-01, -4.34675194e-01,  2.73036131e+00,\n",
       "         3.50293499e-01],\n",
       "       [-2.76460751e-01,  3.01188921e-01,  3.48969063e-01,\n",
       "        -8.80825090e-01, -6.63960926e-01, -2.83684546e-01,\n",
       "        -5.81163783e-01, -7.57085285e-02, -5.40639197e-01,\n",
       "         4.08154400e-01],\n",
       "       [-4.42811368e-01,  7.65701782e-01,  1.92544419e+00,\n",
       "         2.17385135e+00,  4.83247112e-01,  1.67712893e+00,\n",
       "         3.28084909e+00, -3.67534542e-01, -7.88969326e-01,\n",
       "        -9.77276570e-01],\n",
       "       [-4.13288510e-01, -2.50054900e-01,  2.57140986e-01,\n",
       "        -7.47993164e-01,  1.88294246e+00, -1.10755753e+00,\n",
       "         1.87648077e+00, -4.30005156e-01,  1.13376556e+00,\n",
       "         1.33529011e-01],\n",
       "       [-3.35915311e-01, -6.60126657e-01, -3.37762734e-01,\n",
       "         3.13169951e-01, -1.16953123e+00, -9.16990963e-02,\n",
       "        -1.22483260e+00, -3.33049504e-01,  5.26741994e-01,\n",
       "         2.79067041e-03],\n",
       "       [ 8.44763558e-01, -6.90796767e-01, -1.04115740e+00,\n",
       "        -1.14610203e-01,  1.01898233e+00, -9.81369548e-01,\n",
       "        -6.98194476e-01,  4.79428327e-01, -1.33439422e-01,\n",
       "         1.19564169e+00],\n",
       "       [-1.62451841e-01, -2.20910681e-02, -7.14090320e-01,\n",
       "         8.67582242e-01,  1.44165604e-01, -2.35423411e-01,\n",
       "        -5.51906110e-01, -1.43161661e-01, -3.46450409e-01,\n",
       "        -1.44510343e-01]])"
      ]
     },
     "execution_count": 15,
     "metadata": {},
     "output_type": "execute_result"
    }
   ],
   "source": [
    "# Final locations of the centroid\n",
    "k_means.cluster_centers_"
   ]
  },
  {
   "cell_type": "code",
   "execution_count": 17,
   "id": "a7ce6697",
   "metadata": {},
   "outputs": [
    {
     "data": {
      "text/plain": [
       "array([ 0,  3, 14,  8,  9,  5, 21, 17,  2, 15, 18,  7, 11,  1, 19,  4, 13,\n",
       "       10, 12, 20,  6, 16])"
      ]
     },
     "execution_count": 17,
     "metadata": {},
     "output_type": "execute_result"
    }
   ],
   "source": [
    "k_means.labels_"
   ]
  },
  {
   "cell_type": "markdown",
   "id": "0f4366b3",
   "metadata": {},
   "source": [
    "# Star classification"
   ]
  },
  {
   "cell_type": "code",
   "execution_count": 37,
   "id": "5fc55f55",
   "metadata": {},
   "outputs": [],
   "source": [
    "from sklearn.cluster import DBSCAN\n",
    "from sklearn.datasets import make_moons\n",
    "from sklearn.metrics import adjusted_rand_score\n",
    "import matplotlib.pyplot as plt\n",
    "from matplotlib.colors import ListedColormap\n",
    "%matplotlib inline"
   ]
  },
  {
   "cell_type": "code",
   "execution_count": 53,
   "id": "e2f1394f",
   "metadata": {},
   "outputs": [],
   "source": [
    "dt = pd.read_csv(\"stellar/star_classification.csv\")\n",
    "colnames=dt.columns\n"
   ]
  },
  {
   "cell_type": "code",
   "execution_count": 54,
   "id": "c573ae52",
   "metadata": {},
   "outputs": [
    {
     "data": {
      "text/plain": [
       "array(['GALAXY', 'QSO', 'STAR'], dtype=object)"
      ]
     },
     "execution_count": 54,
     "metadata": {},
     "output_type": "execute_result"
    }
   ],
   "source": [
    "dt['class'].unique()"
   ]
  },
  {
   "cell_type": "code",
   "execution_count": 56,
   "id": "8a541ffc",
   "metadata": {},
   "outputs": [
    {
     "data": {
      "text/html": [
       "<div>\n",
       "<style scoped>\n",
       "    .dataframe tbody tr th:only-of-type {\n",
       "        vertical-align: middle;\n",
       "    }\n",
       "\n",
       "    .dataframe tbody tr th {\n",
       "        vertical-align: top;\n",
       "    }\n",
       "\n",
       "    .dataframe thead th {\n",
       "        text-align: right;\n",
       "    }\n",
       "</style>\n",
       "<table border=\"1\" class=\"dataframe\">\n",
       "  <thead>\n",
       "    <tr style=\"text-align: right;\">\n",
       "      <th></th>\n",
       "      <th>obj_ID</th>\n",
       "      <th>alpha</th>\n",
       "      <th>delta</th>\n",
       "      <th>u</th>\n",
       "      <th>g</th>\n",
       "      <th>r</th>\n",
       "      <th>i</th>\n",
       "      <th>z</th>\n",
       "      <th>run_ID</th>\n",
       "      <th>rerun_ID</th>\n",
       "      <th>cam_col</th>\n",
       "      <th>field_ID</th>\n",
       "      <th>spec_obj_ID</th>\n",
       "      <th>class</th>\n",
       "      <th>redshift</th>\n",
       "      <th>plate</th>\n",
       "      <th>MJD</th>\n",
       "      <th>fiber_ID</th>\n",
       "    </tr>\n",
       "  </thead>\n",
       "  <tbody>\n",
       "    <tr>\n",
       "      <th>0</th>\n",
       "      <td>1.237661e+18</td>\n",
       "      <td>135.689107</td>\n",
       "      <td>32.494632</td>\n",
       "      <td>23.87882</td>\n",
       "      <td>22.27530</td>\n",
       "      <td>20.39501</td>\n",
       "      <td>19.16573</td>\n",
       "      <td>18.79371</td>\n",
       "      <td>3606</td>\n",
       "      <td>301</td>\n",
       "      <td>2</td>\n",
       "      <td>79</td>\n",
       "      <td>6.543777e+18</td>\n",
       "      <td>0</td>\n",
       "      <td>0.634794</td>\n",
       "      <td>5812</td>\n",
       "      <td>56354</td>\n",
       "      <td>171</td>\n",
       "    </tr>\n",
       "    <tr>\n",
       "      <th>1</th>\n",
       "      <td>1.237665e+18</td>\n",
       "      <td>144.826101</td>\n",
       "      <td>31.274185</td>\n",
       "      <td>24.77759</td>\n",
       "      <td>22.83188</td>\n",
       "      <td>22.58444</td>\n",
       "      <td>21.16812</td>\n",
       "      <td>21.61427</td>\n",
       "      <td>4518</td>\n",
       "      <td>301</td>\n",
       "      <td>5</td>\n",
       "      <td>119</td>\n",
       "      <td>1.176014e+19</td>\n",
       "      <td>0</td>\n",
       "      <td>0.779136</td>\n",
       "      <td>10445</td>\n",
       "      <td>58158</td>\n",
       "      <td>427</td>\n",
       "    </tr>\n",
       "    <tr>\n",
       "      <th>2</th>\n",
       "      <td>1.237661e+18</td>\n",
       "      <td>142.188790</td>\n",
       "      <td>35.582444</td>\n",
       "      <td>25.26307</td>\n",
       "      <td>22.66389</td>\n",
       "      <td>20.60976</td>\n",
       "      <td>19.34857</td>\n",
       "      <td>18.94827</td>\n",
       "      <td>3606</td>\n",
       "      <td>301</td>\n",
       "      <td>2</td>\n",
       "      <td>120</td>\n",
       "      <td>5.152200e+18</td>\n",
       "      <td>0</td>\n",
       "      <td>0.644195</td>\n",
       "      <td>4576</td>\n",
       "      <td>55592</td>\n",
       "      <td>299</td>\n",
       "    </tr>\n",
       "    <tr>\n",
       "      <th>3</th>\n",
       "      <td>1.237663e+18</td>\n",
       "      <td>338.741038</td>\n",
       "      <td>-0.402828</td>\n",
       "      <td>22.13682</td>\n",
       "      <td>23.77656</td>\n",
       "      <td>21.61162</td>\n",
       "      <td>20.50454</td>\n",
       "      <td>19.25010</td>\n",
       "      <td>4192</td>\n",
       "      <td>301</td>\n",
       "      <td>3</td>\n",
       "      <td>214</td>\n",
       "      <td>1.030107e+19</td>\n",
       "      <td>0</td>\n",
       "      <td>0.932346</td>\n",
       "      <td>9149</td>\n",
       "      <td>58039</td>\n",
       "      <td>775</td>\n",
       "    </tr>\n",
       "    <tr>\n",
       "      <th>4</th>\n",
       "      <td>1.237680e+18</td>\n",
       "      <td>345.282593</td>\n",
       "      <td>21.183866</td>\n",
       "      <td>19.43718</td>\n",
       "      <td>17.58028</td>\n",
       "      <td>16.49747</td>\n",
       "      <td>15.97711</td>\n",
       "      <td>15.54461</td>\n",
       "      <td>8102</td>\n",
       "      <td>301</td>\n",
       "      <td>3</td>\n",
       "      <td>137</td>\n",
       "      <td>6.891865e+18</td>\n",
       "      <td>0</td>\n",
       "      <td>0.116123</td>\n",
       "      <td>6121</td>\n",
       "      <td>56187</td>\n",
       "      <td>842</td>\n",
       "    </tr>\n",
       "  </tbody>\n",
       "</table>\n",
       "</div>"
      ],
      "text/plain": [
       "         obj_ID       alpha      delta         u         g         r  \\\n",
       "0  1.237661e+18  135.689107  32.494632  23.87882  22.27530  20.39501   \n",
       "1  1.237665e+18  144.826101  31.274185  24.77759  22.83188  22.58444   \n",
       "2  1.237661e+18  142.188790  35.582444  25.26307  22.66389  20.60976   \n",
       "3  1.237663e+18  338.741038  -0.402828  22.13682  23.77656  21.61162   \n",
       "4  1.237680e+18  345.282593  21.183866  19.43718  17.58028  16.49747   \n",
       "\n",
       "          i         z  run_ID  rerun_ID  cam_col  field_ID   spec_obj_ID  \\\n",
       "0  19.16573  18.79371    3606       301        2        79  6.543777e+18   \n",
       "1  21.16812  21.61427    4518       301        5       119  1.176014e+19   \n",
       "2  19.34857  18.94827    3606       301        2       120  5.152200e+18   \n",
       "3  20.50454  19.25010    4192       301        3       214  1.030107e+19   \n",
       "4  15.97711  15.54461    8102       301        3       137  6.891865e+18   \n",
       "\n",
       "   class  redshift  plate    MJD  fiber_ID  \n",
       "0      0  0.634794   5812  56354       171  \n",
       "1      0  0.779136  10445  58158       427  \n",
       "2      0  0.644195   4576  55592       299  \n",
       "3      0  0.932346   9149  58039       775  \n",
       "4      0  0.116123   6121  56187       842  "
      ]
     },
     "execution_count": 56,
     "metadata": {},
     "output_type": "execute_result"
    }
   ],
   "source": [
    "#dt['class'] = pd.get_dummies(dt['class'])\n",
    "dt['class']= dt['class'].map({'GALAXY':0, 'STAR':1, 'QSO':2})\n",
    "dt.head()"
   ]
  },
  {
   "cell_type": "code",
   "execution_count": 32,
   "id": "b6389f89",
   "metadata": {},
   "outputs": [
    {
     "data": {
      "text/plain": [
       "obj_ID         0\n",
       "alpha          0\n",
       "delta          0\n",
       "u              0\n",
       "g              0\n",
       "r              0\n",
       "i              0\n",
       "z              0\n",
       "run_ID         0\n",
       "rerun_ID       0\n",
       "cam_col        0\n",
       "field_ID       0\n",
       "spec_obj_ID    0\n",
       "class          0\n",
       "redshift       0\n",
       "plate          0\n",
       "MJD            0\n",
       "fiber_ID       0\n",
       "dtype: int64"
      ]
     },
     "execution_count": 32,
     "metadata": {},
     "output_type": "execute_result"
    }
   ],
   "source": [
    "dt.isna().sum()\n",
    "dt.co"
   ]
  },
  {
   "cell_type": "code",
   "execution_count": null,
   "id": "a60be500",
   "metadata": {},
   "outputs": [],
   "source": []
  },
  {
   "cell_type": "code",
   "execution_count": 75,
   "id": "92b34e1e",
   "metadata": {},
   "outputs": [
    {
     "data": {
      "image/png": "[encoded data removed]",
      "text/plain": [
       "<Figure size 576x432 with 1 Axes>"
      ]
     },
     "metadata": {
      "needs_background": "light"
     },
     "output_type": "display_data"
    }
   ],
   "source": [
    "customcmap = ListedColormap([\"crimson\", \"mediumblue\", \"darkmagenta\"])\n",
    "\n",
    "fig, ax = plt.subplots(figsize=(8, 6))\n",
    "plt.scatter(x=dt['i'], y=dt['u'], s=150,\n",
    "            c=dt['class'].astype('category'), \n",
    "            cmap = customcmap)\n",
    "ax.set_xlabel(r'x', fontsize=14)\n",
    "ax.set_ylabel(r'y', fontsize=14)\n",
    "plt.xticks(fontsize=12)\n",
    "plt.yticks(fontsize=12)\n",
    "plt.show()"
   ]
  },
  {
   "cell_type": "code",
   "execution_count": 60,
   "id": "ab5567d1",
   "metadata": {},
   "outputs": [
    {
     "data": {
      "text/html": [
       "<div>\n",
       "<style scoped>\n",
       "    .dataframe tbody tr th:only-of-type {\n",
       "        vertical-align: middle;\n",
       "    }\n",
       "\n",
       "    .dataframe tbody tr th {\n",
       "        vertical-align: top;\n",
       "    }\n",
       "\n",
       "    .dataframe thead th {\n",
       "        text-align: right;\n",
       "    }\n",
       "</style>\n",
       "<table border=\"1\" class=\"dataframe\">\n",
       "  <thead>\n",
       "    <tr style=\"text-align: right;\">\n",
       "      <th></th>\n",
       "      <th>alpha</th>\n",
       "      <th>delta</th>\n",
       "      <th>u</th>\n",
       "      <th>g</th>\n",
       "      <th>r</th>\n",
       "      <th>i</th>\n",
       "      <th>z</th>\n",
       "      <th>cam_col</th>\n",
       "      <th>redshift</th>\n",
       "      <th>plate</th>\n",
       "      <th>MJD</th>\n",
       "    </tr>\n",
       "  </thead>\n",
       "  <tbody>\n",
       "    <tr>\n",
       "      <th>75721</th>\n",
       "      <td>16.956890</td>\n",
       "      <td>3.646130</td>\n",
       "      <td>23.33542</td>\n",
       "      <td>21.95143</td>\n",
       "      <td>20.48149</td>\n",
       "      <td>19.60300</td>\n",
       "      <td>19.13094</td>\n",
       "      <td>6</td>\n",
       "      <td>0.506237</td>\n",
       "      <td>4312</td>\n",
       "      <td>55511</td>\n",
       "    </tr>\n",
       "    <tr>\n",
       "      <th>80184</th>\n",
       "      <td>240.063240</td>\n",
       "      <td>6.134131</td>\n",
       "      <td>17.86033</td>\n",
       "      <td>16.79228</td>\n",
       "      <td>16.43001</td>\n",
       "      <td>16.30923</td>\n",
       "      <td>16.25873</td>\n",
       "      <td>1</td>\n",
       "      <td>0.000345</td>\n",
       "      <td>2175</td>\n",
       "      <td>54612</td>\n",
       "    </tr>\n",
       "    <tr>\n",
       "      <th>19864</th>\n",
       "      <td>30.887222</td>\n",
       "      <td>1.188710</td>\n",
       "      <td>18.18911</td>\n",
       "      <td>16.89469</td>\n",
       "      <td>16.42161</td>\n",
       "      <td>16.24627</td>\n",
       "      <td>16.18549</td>\n",
       "      <td>1</td>\n",
       "      <td>0.000004</td>\n",
       "      <td>7332</td>\n",
       "      <td>56683</td>\n",
       "    </tr>\n",
       "  </tbody>\n",
       "</table>\n",
       "</div>"
      ],
      "text/plain": [
       "            alpha     delta         u         g         r         i         z  \\\n",
       "75721   16.956890  3.646130  23.33542  21.95143  20.48149  19.60300  19.13094   \n",
       "80184  240.063240  6.134131  17.86033  16.79228  16.43001  16.30923  16.25873   \n",
       "19864   30.887222  1.188710  18.18911  16.89469  16.42161  16.24627  16.18549   \n",
       "\n",
       "       cam_col  redshift  plate    MJD  \n",
       "75721        6  0.506237   4312  55511  \n",
       "80184        1  0.000345   2175  54612  \n",
       "19864        1  0.000004   7332  56683  "
      ]
     },
     "execution_count": 60,
     "metadata": {},
     "output_type": "execute_result"
    }
   ],
   "source": [
    "def initiate_centroids(k, dset):\n",
    "    '''\n",
    "    select k data points as centroids\n",
    "    k: number of centroids\n",
    "    dset: pandas dataframe\n",
    "    '''\n",
    "    \n",
    "    centroids = dset.sample(k)\n",
    "    return centroids\n",
    "\n",
    "np.random.seed(42)\n",
    "k=3\n",
    "df= dt.drop(['class','obj_ID','run_ID','rerun_ID','field_ID','spec_obj_ID','fiber_ID'],axis=1)\n",
    "centroids = initiate_centroids(k,df)\n",
    "centroids"
   ]
  },
  {
   "cell_type": "code",
   "execution_count": 63,
   "id": "0c92c844",
   "metadata": {},
   "outputs": [
    {
     "data": {
      "text/plain": [
       "Index(['alpha', 'delta', 'u', 'g', 'r', 'i', 'z', 'cam_col', 'redshift',\n",
       "       'plate', 'MJD'],\n",
       "      dtype='object')"
      ]
     },
     "execution_count": 63,
     "metadata": {},
     "output_type": "execute_result"
    }
   ],
   "source": [
    "df.columns"
   ]
  },
  {
   "cell_type": "code",
   "execution_count": 64,
   "id": "6a4e2863",
   "metadata": {},
   "outputs": [
    {
     "data": {
      "text/html": [
       "<div>\n",
       "<style scoped>\n",
       "    .dataframe tbody tr th:only-of-type {\n",
       "        vertical-align: middle;\n",
       "    }\n",
       "\n",
       "    .dataframe tbody tr th {\n",
       "        vertical-align: top;\n",
       "    }\n",
       "\n",
       "    .dataframe thead th {\n",
       "        text-align: right;\n",
       "    }\n",
       "</style>\n",
       "<table border=\"1\" class=\"dataframe\">\n",
       "  <thead>\n",
       "    <tr style=\"text-align: right;\">\n",
       "      <th></th>\n",
       "      <th>alpha</th>\n",
       "      <th>delta</th>\n",
       "      <th>u</th>\n",
       "      <th>g</th>\n",
       "      <th>r</th>\n",
       "      <th>i</th>\n",
       "      <th>z</th>\n",
       "      <th>cam_col</th>\n",
       "      <th>redshift</th>\n",
       "      <th>plate</th>\n",
       "      <th>MJD</th>\n",
       "    </tr>\n",
       "  </thead>\n",
       "  <tbody>\n",
       "    <tr>\n",
       "      <th>0</th>\n",
       "      <td>0.376905</td>\n",
       "      <td>0.503802</td>\n",
       "      <td>0.999113</td>\n",
       "      <td>0.999070</td>\n",
       "      <td>0.535344</td>\n",
       "      <td>0.427665</td>\n",
       "      <td>0.998944</td>\n",
       "      <td>0.2</td>\n",
       "      <td>0.091831</td>\n",
       "      <td>0.451592</td>\n",
       "      <td>0.648007</td>\n",
       "    </tr>\n",
       "    <tr>\n",
       "      <th>1</th>\n",
       "      <td>0.402286</td>\n",
       "      <td>0.491812</td>\n",
       "      <td>0.999202</td>\n",
       "      <td>0.999126</td>\n",
       "      <td>0.646203</td>\n",
       "      <td>0.515986</td>\n",
       "      <td>0.999225</td>\n",
       "      <td>0.8</td>\n",
       "      <td>0.112389</td>\n",
       "      <td>0.828841</td>\n",
       "      <td>0.894320</td>\n",
       "    </tr>\n",
       "    <tr>\n",
       "      <th>2</th>\n",
       "      <td>0.394960</td>\n",
       "      <td>0.534139</td>\n",
       "      <td>0.999251</td>\n",
       "      <td>0.999109</td>\n",
       "      <td>0.546218</td>\n",
       "      <td>0.435729</td>\n",
       "      <td>0.998959</td>\n",
       "      <td>0.2</td>\n",
       "      <td>0.093170</td>\n",
       "      <td>0.350949</td>\n",
       "      <td>0.543965</td>\n",
       "    </tr>\n",
       "    <tr>\n",
       "      <th>3</th>\n",
       "      <td>0.940947</td>\n",
       "      <td>0.180600</td>\n",
       "      <td>0.998939</td>\n",
       "      <td>0.999220</td>\n",
       "      <td>0.596946</td>\n",
       "      <td>0.486717</td>\n",
       "      <td>0.998990</td>\n",
       "      <td>0.4</td>\n",
       "      <td>0.134210</td>\n",
       "      <td>0.723312</td>\n",
       "      <td>0.878072</td>\n",
       "    </tr>\n",
       "    <tr>\n",
       "      <th>4</th>\n",
       "      <td>0.959118</td>\n",
       "      <td>0.392679</td>\n",
       "      <td>0.998670</td>\n",
       "      <td>0.998602</td>\n",
       "      <td>0.337999</td>\n",
       "      <td>0.287021</td>\n",
       "      <td>0.998620</td>\n",
       "      <td>0.4</td>\n",
       "      <td>0.017959</td>\n",
       "      <td>0.476753</td>\n",
       "      <td>0.625205</td>\n",
       "    </tr>\n",
       "  </tbody>\n",
       "</table>\n",
       "</div>"
      ],
      "text/plain": [
       "      alpha     delta         u         g         r         i         z  \\\n",
       "0  0.376905  0.503802  0.999113  0.999070  0.535344  0.427665  0.998944   \n",
       "1  0.402286  0.491812  0.999202  0.999126  0.646203  0.515986  0.999225   \n",
       "2  0.394960  0.534139  0.999251  0.999109  0.546218  0.435729  0.998959   \n",
       "3  0.940947  0.180600  0.998939  0.999220  0.596946  0.486717  0.998990   \n",
       "4  0.959118  0.392679  0.998670  0.998602  0.337999  0.287021  0.998620   \n",
       "\n",
       "   cam_col  redshift     plate       MJD  \n",
       "0      0.2  0.091831  0.451592  0.648007  \n",
       "1      0.8  0.112389  0.828841  0.894320  \n",
       "2      0.2  0.093170  0.350949  0.543965  \n",
       "3      0.4  0.134210  0.723312  0.878072  \n",
       "4      0.4  0.017959  0.476753  0.625205  "
      ]
     },
     "execution_count": 64,
     "metadata": {},
     "output_type": "execute_result"
    }
   ],
   "source": [
    "from sklearn.cluster import KMeans\n",
    "\n",
    "import sklearn.cluster as cluster\n",
    "import sklearn.metrics as metrics\n",
    "import pandas as pd\n",
    "from sklearn.preprocessing import MinMaxScaler\n",
    "import seaborn as sns\n",
    "\n",
    "# The random_state needs to be the same number to get reproducible results\n",
    "scaler = MinMaxScaler()\n",
    "scale = scaler.fit_transform(df)\n",
    "df_scale = pd.DataFrame(scale, columns=['alpha', 'delta', 'u', 'g', 'r', 'i', 'z', 'cam_col', 'redshift',\n",
    "       'plate', 'MJD']);\n",
    "df_scale.head(5)"
   ]
  },
  {
   "cell_type": "code",
   "execution_count": 65,
   "id": "e8f05e76",
   "metadata": {},
   "outputs": [
    {
     "data": {
      "text/plain": [
       "array([2, 1, 2, ..., 0, 2, 1])"
      ]
     },
     "execution_count": 65,
     "metadata": {},
     "output_type": "execute_result"
    }
   ],
   "source": [
    "km=KMeans(n_clusters=3)\n",
    "y_predicted = km.fit_predict(df)\n",
    "y_predicted"
   ]
  },
  {
   "cell_type": "code",
   "execution_count": 66,
   "id": "cd349fc5",
   "metadata": {},
   "outputs": [
    {
     "data": {
      "text/plain": [
       "array([[1.72900417e+02, 2.22653519e+01, 2.02324299e+01, 1.86223032e+01,\n",
       "        1.77698179e+01, 1.73574461e+01, 1.70979182e+01, 3.50171364e+00,\n",
       "        1.74713542e-01, 1.62951945e+03, 5.32508130e+04],\n",
       "       [1.64969415e+02, 2.65117230e+01, 2.26672463e+01, 2.18161964e+01,\n",
       "        2.10107361e+01, 2.04488242e+01, 2.01139892e+01, 3.53244564e+00,\n",
       "        9.24276076e-01, 8.75576477e+03, 5.75943725e+04],\n",
       "       [1.90480059e+02, 2.37803380e+01, 2.27788528e+01, 2.10095118e+01,\n",
       "        2.00401269e+01, 1.93691407e+01, 1.87765207e+01, 3.50364927e+00,\n",
       "        6.20544276e-01, 5.08885497e+03, 5.58557422e+04]])"
      ]
     },
     "execution_count": 66,
     "metadata": {},
     "output_type": "execute_result"
    }
   ],
   "source": [
    "km.cluster_centers_\n"
   ]
  },
  {
   "cell_type": "code",
   "execution_count": 70,
   "id": "0f3d5a5a",
   "metadata": {},
   "outputs": [
    {
     "data": {
      "text/plain": [
       "<AxesSubplot: xlabel='redshift', ylabel='plate'>"
      ]
     },
     "execution_count": 70,
     "metadata": {},
     "output_type": "execute_result"
    },
    {
     "data": {
      "image/png": "[encoded data removed]",
      "text/plain": [
       "<Figure size 432x288 with 1 Axes>"
      ]
     },
     "metadata": {
      "needs_background": "light"
     },
     "output_type": "display_data"
    }
   ],
   "source": [
    "\n",
    "\n",
    "df['Clusters'] = km.labels_\n",
    "sns.scatterplot(x=\"redshift\",y=\"plate\", hue = 'Clusters',  data=df,palette='viridis')"
   ]
  },
  {
   "cell_type": "code",
   "execution_count": 36,
   "id": "86df56ed",
   "metadata": {},
   "outputs": [],
   "source": []
  },
  {
   "cell_type": "markdown",
   "id": "d47b1b89",
   "metadata": {},
   "source": [
    "# Finding optimum  number of clusters in k means"
   ]
  },
  {
   "cell_type": "code",
   "execution_count": null,
   "id": "984b2834",
   "metadata": {},
   "outputs": [],
   "source": []
  }
 ],
 "metadata": {
  "kernelspec": {
   "display_name": "Python 3",
   "language": "python",
   "name": "python3"
  },
  "language_info": {
   "codemirror_mode": {
    "name": "ipython",
    "version": 3
   },
   "file_extension": ".py",
   "mimetype": "text/x-python",
   "name": "python",
   "nbconvert_exporter": "python",
   "pygments_lexer": "ipython3",
   "version": "3.8.8"
  }
 },
 "nbformat": 4,
 "nbformat_minor": 5
}
